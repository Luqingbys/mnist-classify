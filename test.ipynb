{
 "cells": [
  {
   "cell_type": "code",
   "execution_count": 9,
   "metadata": {},
   "outputs": [],
   "source": [
    "import random\n",
    "import numpy as np\n",
    "from PIL import Image\n",
    "import matplotlib.pyplot as plt\n",
    "import torch"
   ]
  },
  {
   "cell_type": "code",
   "execution_count": 3,
   "metadata": {},
   "outputs": [],
   "source": [
    "num_dict = {'0': 5923, '1': 6742, '2': 5958, '3': 6131, '4': 5842, '5': 5421, '6': 5918, '7': 6265, '8': 5851, '9': 5949}"
   ]
  },
  {
   "cell_type": "code",
   "execution_count": 4,
   "metadata": {},
   "outputs": [],
   "source": [
    "for i in range(10):\n",
    "    random.sample(range(num_dict[str(i)]), 100)"
   ]
  },
  {
   "cell_type": "code",
   "execution_count": 10,
   "metadata": {},
   "outputs": [
    {
     "name": "stdout",
     "output_type": "stream",
     "text": [
      "tensor([[  1,   1,   1,   1,   1,   1,   1,   1,   1,   1,   1,   1,   1,   1,\n",
      "           1,   1,   1,   1,   1,   1,   1,   1,   1,   1,   1,   1,   1,   1],\n",
      "        [  1,   1,   1,   1,   1,   1,   1,   1,   1,   1,   1,   1,   1,   1,\n",
      "           1,   1,   1,   1,   1,   1,   1,   1,   1,   1,   1,   1,   1,   1],\n",
      "        [  1,   1,   1,   1,   1,   1,   1,   1,   1,   1,   1,   1,   1,   1,\n",
      "           1,   1,   1,   1,   1,   1,   1,   1,   1,   1,   1,   1,   1,   1],\n",
      "        [  1,   1,   1,   1,   1,   1,   1,   1,   1,   1,   1,   1,   1,   1,\n",
      "           1,   1,   1,   1,   1,   1,   1,   1,   1,   1,   1,   1,   1,   1],\n",
      "        [  1,   1,   1,   1,   1,   1,   1,   1,   1,   1,   1,   1,   1,   1,\n",
      "           1, 103,  63, 251,  63, 101,   1,   1,   1,   1,   1,   1,   1,   1],\n",
      "        [  1,   1,   1,   1,   1,   1,   1,   1,   1,   1,   1,   1,   1,   1,\n",
      "          97, 221, 249, 249, 249, 219,   1,   1,   1,   1,   1,   1,   1,   1],\n",
      "        [  1,   1,   1,   1,   1,   1,   1,   1,   1,   1,   1,   1,   1, 109,\n",
      "         199, 251, 249, 223, 211, 249, 115,  13,   1,   1,   1,   1,   1,   1],\n",
      "        [  1,   1,   1,   1,   1,   1,   1,   1,   1,   1,   1,  21, 121, 193,\n",
      "         249, 251, 249, 149, 170, 249, 251, 246,   1,   1,   1,   1,   1,   1],\n",
      "        [  1,   1,   1,   1,   1,   1,   1,   1,   1,   1,   1,  71, 249, 249,\n",
      "         249, 251, 249, 249, 194, 123, 251,  79,   1,   1,   1,   1,   1,   1],\n",
      "        [  1,   1,   1,   1,   1,   1,   1,   1,   1,   1, 103, 221, 251, 251,\n",
      "         125, 230, 251, 201,  95, 160, 255,  81,   1,   1,   1,   1,   1,   1],\n",
      "        [  1,   1,   1,   1,   1,   1,   1,   1,   1,  97, 221, 249, 249, 103,\n",
      "          25, 152, 244,  43,   1,   1, 251, 231, 101,   1,   1,   1,   1,   1],\n",
      "        [  1,   1,   1,   1,   1,   1,   1,   1,  77,  75, 251, 211, 161, 170,\n",
      "           1,   1,   1,   1,   1,   1, 251, 249,  75,   1,   1,   1,   1,   1],\n",
      "        [  1,   1,   1,   1,   1,   1,   1,  15, 101, 249, 225, 144,  39,  57,\n",
      "           1,   1,   1,   1,   1,   1, 251, 249, 135,   1,   1,   1,   1,   1],\n",
      "        [  1,   1,   1,   1,   1,   1,   1, 115, 249, 249, 127,   1,   1,   1,\n",
      "           1,   1,   1,   1,   1,   1, 251, 249, 135,   1,   1,   1,   1,   1],\n",
      "        [  1,   1,   1,   1,   1,   1,   1, 141, 251, 125,   1,   1,   1,   1,\n",
      "           1,   1,   1,   1,   1,   1, 255, 251, 137,   1,   1,   1,   1,   1],\n",
      "        [  1,   1,   1,   1,   1,   1, 154, 237, 249, 226,   1,   1,   1,   1,\n",
      "           1,   1,   1,   1,   1,   1, 251, 249,  41,   1,   1,   1,   1,   1],\n",
      "        [  1,   1,   1,   1,   1,   1, 172, 249, 205,  51,   1,   1,   1,   1,\n",
      "           1,   1,   1,   1,  15,  15, 251, 117,  25,   1,   1,   1,   1,   1],\n",
      "        [  1,   1,   1,   1,   1,   1, 172, 249, 191,   1,   1,   1,   1,   1,\n",
      "           1,   1,   1,  15,   7, 249, 195, 144,   1,   1,   1,   1,   1,   1],\n",
      "        [  1,   1,   1,   1,   1,   1, 172, 249,  35,   1,   1,   1,   1,   1,\n",
      "           1,   1,  97,  75, 249,  91,   1,   1,   1,   1,   1,   1,   1,   1],\n",
      "        [  1,   1,   1,   1,   1,   1, 174, 251, 195,   1,   1,   1,   1,   1,\n",
      "           1, 230, 221, 251,  69,   1,   1,   1,   1,   1,   1,   1,   1,   1],\n",
      "        [  1,   1,   1,   1,   1,   1, 172, 249, 243,  37,  97,  59, 172, 101,\n",
      "         195, 251, 191,  79, 113,   1,   1,   1,   1,   1,   1,   1,   1,   1],\n",
      "        [  1,   1,   1,   1,   1,   1, 172, 249, 249, 249, 203, 175, 249, 249,\n",
      "         249, 137,   5,   1,   1,   1,   1,   1,   1,   1,   1,   1,   1,   1],\n",
      "        [  1,   1,   1,   1,   1,   1,  57, 143, 249, 249, 251, 249, 249, 211,\n",
      "          35,   1,   1,   1,   1,   1,   1,   1,   1,   1,   1,   1,   1,   1],\n",
      "        [  1,   1,   1,   1,   1,   1,   1,  51,   1, 249, 251, 249,  27,  75,\n",
      "           1,   1,   1,   1,   1,   1,   1,   1,   1,   1,   1,   1,   1,   1],\n",
      "        [  1,   1,   1,   1,   1,   1,   1,   1,   1,   1,   1,   1,   1,   1,\n",
      "           1,   1,   1,   1,   1,   1,   1,   1,   1,   1,   1,   1,   1,   1],\n",
      "        [  1,   1,   1,   1,   1,   1,   1,   1,   1,   1,   1,   1,   1,   1,\n",
      "           1,   1,   1,   1,   1,   1,   1,   1,   1,   1,   1,   1,   1,   1],\n",
      "        [  1,   1,   1,   1,   1,   1,   1,   1,   1,   1,   1,   1,   1,   1,\n",
      "           1,   1,   1,   1,   1,   1,   1,   1,   1,   1,   1,   1,   1,   1],\n",
      "        [  1,   1,   1,   1,   1,   1,   1,   1,   1,   1,   1,   1,   1,   1,\n",
      "           1,   1,   1,   1,   1,   1,   1,   1,   1,   1,   1,   1,   1,   1]],\n",
      "       dtype=torch.uint8)\n",
      "(28, 28)\n"
     ]
    },
    {
     "data": {
      "text/plain": [
       "<matplotlib.image.AxesImage at 0x1b0dd1a31c0>"
      ]
     },
     "execution_count": 10,
     "metadata": {},
     "output_type": "execute_result"
    },
    {
     "data": {
      "image/png": "[encoded data removed]",
      "text/plain": [
       "<Figure size 640x480 with 1 Axes>"
      ]
     },
     "metadata": {},
     "output_type": "display_data"
    }
   ],
   "source": [
    "path = 'data\\MNIST\\png\\\\0\\mnist_0-0.png'\n",
    "image = Image.open(path)\n",
    "image = np.array(image)\n",
    "print(torch.tensor(image))\n",
    "print(image.shape)\n",
    "plt.imshow(image)"
   ]
  }
 ],
 "metadata": {
  "kernelspec": {
   "display_name": "Python 3.8.15 ('torchgpu')",
   "language": "python",
   "name": "python3"
  },
  "language_info": {
   "codemirror_mode": {
    "name": "ipython",
    "version": 3
   },
   "file_extension": ".py",
   "mimetype": "text/x-python",
   "name": "python",
   "nbconvert_exporter": "python",
   "pygments_lexer": "ipython3",
   "version": "3.8.15"
  },
  "orig_nbformat": 4,
  "vscode": {
   "interpreter": {
    "hash": "808ba20632a941d426494906f9e1a2bcb2af5a0b26e589ffbedba9846380e600"
   }
  }
 },
 "nbformat": 4,
 "nbformat_minor": 2
}
