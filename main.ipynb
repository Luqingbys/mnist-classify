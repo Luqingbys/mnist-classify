{
 "cells": [
  {
   "cell_type": "code",
   "execution_count": 1,
   "metadata": {},
   "outputs": [],
   "source": [
    "import torch\n",
    "import torch.nn as nn\n",
    "import torchvision\n",
    "import torch.nn.functional as F\n",
    "from tqdm import tqdm\n",
    "import matplotlib.pyplot as plt"
   ]
  },
  {
   "cell_type": "markdown",
   "metadata": {},
   "source": [
    "## 准备数据集"
   ]
  },
  {
   "cell_type": "code",
   "execution_count": 3,
   "metadata": {},
   "outputs": [
    {
     "name": "stdout",
     "output_type": "stream",
     "text": [
      "device:  cuda:0\n"
     ]
    }
   ],
   "source": [
    "#如果网络能在GPU中训练，就使用GPU；否则使用CPU进行训练\n",
    "device = \"cuda:0\" if torch.cuda.is_available() else \"cpu\"\n",
    "print('device: ', device)\n",
    "\n",
    "#这个函数包括了两个操作：将图片转换为张量，以及将图片进行归一化处理\n",
    "transform = torchvision.transforms.Compose([torchvision.transforms.ToTensor(),\n",
    "                                torchvision.transforms.Normalize(mean = [0.5],std = [0.5])])"
   ]
  },
  {
   "cell_type": "code",
   "execution_count": 4,
   "metadata": {},
   "outputs": [],
   "source": [
    "path = './data/'  #数据集下载后保存的目录\n",
    "\n",
    "#下载训练集和测试集\n",
    "trainData = torchvision.datasets.MNIST(path,train = True,transform = transform, download = True)\n",
    "testData = torchvision.datasets.MNIST(path,train = False,transform = transform, download=True)"
   ]
  },
  {
   "cell_type": "markdown",
   "metadata": {},
   "source": [
    "接下来创建好数据迭代器"
   ]
  },
  {
   "cell_type": "code",
   "execution_count": 5,
   "metadata": {},
   "outputs": [],
   "source": [
    "#设定每一个Batch的大小\n",
    "BATCH_SIZE = 256  \n",
    "\n",
    "#构建数据集和测试集的DataLoader\n",
    "trainDataLoader = torch.utils.data.DataLoader(dataset = trainData, batch_size = BATCH_SIZE,shuffle = True)\n",
    "testDataLoader = torch.utils.data.DataLoader(dataset = testData, batch_size = BATCH_SIZE)\n"
   ]
  },
  {
   "cell_type": "markdown",
   "metadata": {},
   "source": [
    "## 搭建网络"
   ]
  },
  {
   "cell_type": "markdown",
   "metadata": {},
   "source": [
    "### 使用简单的全连接神经网络"
   ]
  },
  {
   "cell_type": "code",
   "execution_count": 6,
   "metadata": {},
   "outputs": [],
   "source": [
    "class Net(nn.Module):\n",
    "    def __init__(self):\n",
    "        super(Net,self).__init__()\n",
    "        self.fc_model = nn.Sequential(\n",
    "            nn.Linear(28*28, 256),\n",
    "            nn.BatchNorm1d(256),\n",
    "            nn.ReLU(),\n",
    "            nn.Linear(256, 128),\n",
    "            nn.BatchNorm1d(128),\n",
    "            nn.ReLU(),\n",
    "            nn.Linear(128, 10)\n",
    "        )\n",
    "        self.classify = nn.Softmax(dim=1)\n",
    "        # self.model = torch.nn.Sequential(\n",
    "        #     #The size of the picture is 28x28\n",
    "        #     torch.nn.Conv2d(in_channels = 1,out_channels = 16,kernel_size = 3,stride = 1,padding = 1),\n",
    "        #     torch.nn.ReLU(),\n",
    "        #     torch.nn.MaxPool2d(kernel_size = 2,stride = 2),\n",
    "            \n",
    "        #     #The size of the picture is 14x14\n",
    "        #     torch.nn.Conv2d(in_channels = 16,out_channels = 32,kernel_size = 3,stride = 1,padding = 1),\n",
    "        #     torch.nn.ReLU(),\n",
    "        #     torch.nn.MaxPool2d(kernel_size = 2,stride = 2),\n",
    "            \n",
    "        #     #The size of the picture is 7x7\n",
    "        #     torch.nn.Conv2d(in_channels = 32,out_channels = 64,kernel_size = 3,stride = 1,padding = 1),\n",
    "        #     torch.nn.ReLU(),\n",
    "            \n",
    "        #     torch.nn.Flatten(),\n",
    "        #     torch.nn.Linear(in_features = 7 * 7 * 64,out_features = 128),\n",
    "        #     torch.nn.ReLU(),\n",
    "        #     torch.nn.Linear(in_features = 128,out_features = 10),\n",
    "        #     torch.nn.Softmax(dim=1)\n",
    "        # )\n",
    "        \n",
    "    def forward(self, input: torch.TensorType):\n",
    "        '''由于是灰度图，最开始的输入input尺寸为(batch_size, 1, 28, 28)'''\n",
    "        x = torch.flatten(input, 1) # x: (batch_size, 28*28)\n",
    "        output = self.fc_model(x)\n",
    "        output = self.classify(output)\n",
    "        return output"
   ]
  },
  {
   "cell_type": "markdown",
   "metadata": {},
   "source": [
    "### 使用残差网络（深度卷积网络）"
   ]
  },
  {
   "cell_type": "code",
   "execution_count": 12,
   "metadata": {},
   "outputs": [],
   "source": [
    "class ResBlk(nn.Module):\n",
    "\n",
    "    def __init__(self, ch_in, ch_out, stride) -> None:\n",
    "        super(ResBlk, self).__init__()\n",
    "\n",
    "        self.conv1 = nn.Conv2d(ch_in, ch_out, kernel_size=3, stride=stride, padding=1)\n",
    "        self.bn1 = nn.BatchNorm2d(ch_out)\n",
    "        self.conv2 = nn.Conv2d(ch_out, ch_out, kernel_size=3, stride=1, padding=1)\n",
    "        self.bn2 = nn.BatchNorm2d(ch_out)\n",
    "\n",
    "        self.extra = nn.Sequential()\n",
    "        # 为了统一残差结构下的shortcut与卷积层输出的张量尺寸，需要提供一个额外的卷积层\n",
    "        if ch_out != ch_in:\n",
    "            self.extra = nn.Sequential(\n",
    "                nn.Conv2d(ch_in, ch_out, kernel_size=1, stride=stride),\n",
    "                nn.BatchNorm2d(ch_out)\n",
    "            )\n",
    "\n",
    "    \n",
    "    def forward(self, x: torch.Tensor):\n",
    "        '''\n",
    "        x (batch_size, c, h, w)\n",
    "        '''\n",
    "        # print('in resBlock:', x.shape)\n",
    "        out = F.relu(self.bn1(self.conv1(x)))\n",
    "        out = F.relu(self.bn1(self.conv2(out)))\n",
    "        # 加入shortcut，需要统一张量尺寸\n",
    "        out = self.extra(x) + out\n",
    "        return out\n",
    "\n",
    "\n",
    "class ResNet(nn.Module):\n",
    "    \n",
    "    def __init__(self) -> None:\n",
    "        super(ResNet, self).__init__()\n",
    "\n",
    "        # 灰度图，通道数为1\n",
    "        self.conv1 = nn.Sequential(\n",
    "            nn.Conv2d(1, 64, kernel_size=3, stride=1, padding=1),\n",
    "            nn.BatchNorm2d(64)\n",
    "        )\n",
    "        # 接上4个block\n",
    "        # (b, 64, h, w) => (b, 128, h, w)，以此类推\n",
    "        self.blk1 = ResBlk(64, 128, stride=2)\n",
    "        self.blk2 = ResBlk(128, 256, stride=2)\n",
    "        self.blk3 = ResBlk(256, 512, stride=2)\n",
    "        self.blk4 = ResBlk(512, 1024, stride=2)\n",
    "\n",
    "        # 池化\n",
    "        self.avg_pool = nn.AdaptiveAvgPool2d(1)\n",
    "\n",
    "        # 全连接层\n",
    "        self.outlayer = nn.Linear(1024, 10)\n",
    "        # self.classifer = nn.Softmax()\n",
    "\n",
    "\n",
    "    def forward(self, x: torch.Tensor):\n",
    "        # print('at first:', x.shape)\n",
    "        x = F.relu(self.conv1(x))\n",
    "        # print('before resBlock1:', x.shape)\n",
    "        x = self.blk1(x)\n",
    "        # print('before resBlock2:', x.shape)\n",
    "        x = self.blk2(x)\n",
    "        x = self.blk3(x)\n",
    "        x = self.blk4(x)\n",
    "\n",
    "        # x = F.adaptive_avg_pool2d(x, output_size=[1, 1])\n",
    "        # print('before pool: ', x.shape)\n",
    "        # x = F.adaptive_avg_pool2d(x)\n",
    "        x = self.avg_pool(x)\n",
    "        # print('after pool: ', x.shape)\n",
    "        x = x.view(x.size(0), -1)\n",
    "        x = self.outlayer(x)\n",
    "        return x"
   ]
  },
  {
   "cell_type": "code",
   "execution_count": 13,
   "metadata": {},
   "outputs": [],
   "source": [
    "# net = Net()\n",
    "net = ResNet()\n",
    "net = net.to(device)\n",
    "#将模型转换到device中，并将其结构显示出来\n",
    "# print(net.to(device))"
   ]
  },
  {
   "cell_type": "code",
   "execution_count": 9,
   "metadata": {},
   "outputs": [
    {
     "data": {
      "text/plain": [
       "'1.12.1'"
      ]
     },
     "execution_count": 9,
     "metadata": {},
     "output_type": "execute_result"
    }
   ],
   "source": [
    "# torch.cuda.is_available()\n",
    "torch.__version__"
   ]
  },
  {
   "cell_type": "markdown",
   "metadata": {},
   "source": [
    "定义好损失函数和优化器"
   ]
  },
  {
   "cell_type": "code",
   "execution_count": 14,
   "metadata": {},
   "outputs": [],
   "source": [
    "lossF = torch.nn.CrossEntropyLoss()\n",
    "optimizer = torch.optim.Adam(net.parameters())"
   ]
  },
  {
   "cell_type": "code",
   "execution_count": 15,
   "metadata": {},
   "outputs": [
    {
     "name": "stderr",
     "output_type": "stream",
     "text": [
      "[1/10] Loss: 0.1083, Acc: 0.9688: 100%|█████████▉| 234/235 [01:06<00:00,  3.51step/s]\n"
     ]
    },
    {
     "ename": "RuntimeError",
     "evalue": "CUDA out of memory. Tried to allocate 50.00 MiB (GPU 0; 4.00 GiB total capacity; 3.35 GiB already allocated; 0 bytes free; 3.41 GiB reserved in total by PyTorch) If reserved memory is >> allocated memory try setting max_split_size_mb to avoid fragmentation.  See documentation for Memory Management and PYTORCH_CUDA_ALLOC_CONF",
     "output_type": "error",
     "traceback": [
      "\u001b[1;31m---------------------------------------------------------------------------\u001b[0m",
      "\u001b[1;31mRuntimeError\u001b[0m                              Traceback (most recent call last)",
      "Cell \u001b[1;32mIn [15], line 30\u001b[0m\n\u001b[0;32m     28\u001b[0m testImgs \u001b[38;5;241m=\u001b[39m testImgs\u001b[38;5;241m.\u001b[39mto(device)\n\u001b[0;32m     29\u001b[0m labels \u001b[38;5;241m=\u001b[39m labels\u001b[38;5;241m.\u001b[39mto(device)\n\u001b[1;32m---> 30\u001b[0m outputs \u001b[38;5;241m=\u001b[39m \u001b[43mnet\u001b[49m\u001b[43m(\u001b[49m\u001b[43mtestImgs\u001b[49m\u001b[43m)\u001b[49m\n\u001b[0;32m     31\u001b[0m loss \u001b[38;5;241m=\u001b[39m lossF(outputs, labels)\n\u001b[0;32m     32\u001b[0m predictions \u001b[38;5;241m=\u001b[39m torch\u001b[38;5;241m.\u001b[39margmax(outputs, dim\u001b[38;5;241m=\u001b[39m\u001b[38;5;241m1\u001b[39m)\n",
      "File \u001b[1;32md:\\DesktopEXE\\Anaconda\\envs\\torchgpu\\lib\\site-packages\\torch\\nn\\modules\\module.py:1130\u001b[0m, in \u001b[0;36mModule._call_impl\u001b[1;34m(self, *input, **kwargs)\u001b[0m\n\u001b[0;32m   1126\u001b[0m \u001b[39m# If we don't have any hooks, we want to skip the rest of the logic in\u001b[39;00m\n\u001b[0;32m   1127\u001b[0m \u001b[39m# this function, and just call forward.\u001b[39;00m\n\u001b[0;32m   1128\u001b[0m \u001b[39mif\u001b[39;00m \u001b[39mnot\u001b[39;00m (\u001b[39mself\u001b[39m\u001b[39m.\u001b[39m_backward_hooks \u001b[39mor\u001b[39;00m \u001b[39mself\u001b[39m\u001b[39m.\u001b[39m_forward_hooks \u001b[39mor\u001b[39;00m \u001b[39mself\u001b[39m\u001b[39m.\u001b[39m_forward_pre_hooks \u001b[39mor\u001b[39;00m _global_backward_hooks\n\u001b[0;32m   1129\u001b[0m         \u001b[39mor\u001b[39;00m _global_forward_hooks \u001b[39mor\u001b[39;00m _global_forward_pre_hooks):\n\u001b[1;32m-> 1130\u001b[0m     \u001b[39mreturn\u001b[39;00m forward_call(\u001b[39m*\u001b[39;49m\u001b[39minput\u001b[39;49m, \u001b[39m*\u001b[39;49m\u001b[39m*\u001b[39;49mkwargs)\n\u001b[0;32m   1131\u001b[0m \u001b[39m# Do not call functions when jit is used\u001b[39;00m\n\u001b[0;32m   1132\u001b[0m full_backward_hooks, non_full_backward_hooks \u001b[39m=\u001b[39m [], []\n",
      "Cell \u001b[1;32mIn [12], line 59\u001b[0m, in \u001b[0;36mResNet.forward\u001b[1;34m(self, x)\u001b[0m\n\u001b[0;32m     57\u001b[0m \u001b[38;5;28;01mdef\u001b[39;00m \u001b[38;5;21mforward\u001b[39m(\u001b[38;5;28mself\u001b[39m, x: torch\u001b[38;5;241m.\u001b[39mTensor):\n\u001b[0;32m     58\u001b[0m     \u001b[38;5;66;03m# print('at first:', x.shape)\u001b[39;00m\n\u001b[1;32m---> 59\u001b[0m     x \u001b[38;5;241m=\u001b[39m F\u001b[38;5;241m.\u001b[39mrelu(\u001b[38;5;28;43mself\u001b[39;49m\u001b[38;5;241;43m.\u001b[39;49m\u001b[43mconv1\u001b[49m\u001b[43m(\u001b[49m\u001b[43mx\u001b[49m\u001b[43m)\u001b[49m)\n\u001b[0;32m     60\u001b[0m     \u001b[38;5;66;03m# print('before resBlock1:', x.shape)\u001b[39;00m\n\u001b[0;32m     61\u001b[0m     x \u001b[38;5;241m=\u001b[39m \u001b[38;5;28mself\u001b[39m\u001b[38;5;241m.\u001b[39mblk1(x)\n",
      "File \u001b[1;32md:\\DesktopEXE\\Anaconda\\envs\\torchgpu\\lib\\site-packages\\torch\\nn\\modules\\module.py:1130\u001b[0m, in \u001b[0;36mModule._call_impl\u001b[1;34m(self, *input, **kwargs)\u001b[0m\n\u001b[0;32m   1126\u001b[0m \u001b[39m# If we don't have any hooks, we want to skip the rest of the logic in\u001b[39;00m\n\u001b[0;32m   1127\u001b[0m \u001b[39m# this function, and just call forward.\u001b[39;00m\n\u001b[0;32m   1128\u001b[0m \u001b[39mif\u001b[39;00m \u001b[39mnot\u001b[39;00m (\u001b[39mself\u001b[39m\u001b[39m.\u001b[39m_backward_hooks \u001b[39mor\u001b[39;00m \u001b[39mself\u001b[39m\u001b[39m.\u001b[39m_forward_hooks \u001b[39mor\u001b[39;00m \u001b[39mself\u001b[39m\u001b[39m.\u001b[39m_forward_pre_hooks \u001b[39mor\u001b[39;00m _global_backward_hooks\n\u001b[0;32m   1129\u001b[0m         \u001b[39mor\u001b[39;00m _global_forward_hooks \u001b[39mor\u001b[39;00m _global_forward_pre_hooks):\n\u001b[1;32m-> 1130\u001b[0m     \u001b[39mreturn\u001b[39;00m forward_call(\u001b[39m*\u001b[39;49m\u001b[39minput\u001b[39;49m, \u001b[39m*\u001b[39;49m\u001b[39m*\u001b[39;49mkwargs)\n\u001b[0;32m   1131\u001b[0m \u001b[39m# Do not call functions when jit is used\u001b[39;00m\n\u001b[0;32m   1132\u001b[0m full_backward_hooks, non_full_backward_hooks \u001b[39m=\u001b[39m [], []\n",
      "File \u001b[1;32md:\\DesktopEXE\\Anaconda\\envs\\torchgpu\\lib\\site-packages\\torch\\nn\\modules\\container.py:139\u001b[0m, in \u001b[0;36mSequential.forward\u001b[1;34m(self, input)\u001b[0m\n\u001b[0;32m    137\u001b[0m \u001b[39mdef\u001b[39;00m \u001b[39mforward\u001b[39m(\u001b[39mself\u001b[39m, \u001b[39minput\u001b[39m):\n\u001b[0;32m    138\u001b[0m     \u001b[39mfor\u001b[39;00m module \u001b[39min\u001b[39;00m \u001b[39mself\u001b[39m:\n\u001b[1;32m--> 139\u001b[0m         \u001b[39minput\u001b[39m \u001b[39m=\u001b[39m module(\u001b[39minput\u001b[39;49m)\n\u001b[0;32m    140\u001b[0m     \u001b[39mreturn\u001b[39;00m \u001b[39minput\u001b[39m\n",
      "File \u001b[1;32md:\\DesktopEXE\\Anaconda\\envs\\torchgpu\\lib\\site-packages\\torch\\nn\\modules\\module.py:1130\u001b[0m, in \u001b[0;36mModule._call_impl\u001b[1;34m(self, *input, **kwargs)\u001b[0m\n\u001b[0;32m   1126\u001b[0m \u001b[39m# If we don't have any hooks, we want to skip the rest of the logic in\u001b[39;00m\n\u001b[0;32m   1127\u001b[0m \u001b[39m# this function, and just call forward.\u001b[39;00m\n\u001b[0;32m   1128\u001b[0m \u001b[39mif\u001b[39;00m \u001b[39mnot\u001b[39;00m (\u001b[39mself\u001b[39m\u001b[39m.\u001b[39m_backward_hooks \u001b[39mor\u001b[39;00m \u001b[39mself\u001b[39m\u001b[39m.\u001b[39m_forward_hooks \u001b[39mor\u001b[39;00m \u001b[39mself\u001b[39m\u001b[39m.\u001b[39m_forward_pre_hooks \u001b[39mor\u001b[39;00m _global_backward_hooks\n\u001b[0;32m   1129\u001b[0m         \u001b[39mor\u001b[39;00m _global_forward_hooks \u001b[39mor\u001b[39;00m _global_forward_pre_hooks):\n\u001b[1;32m-> 1130\u001b[0m     \u001b[39mreturn\u001b[39;00m forward_call(\u001b[39m*\u001b[39;49m\u001b[39minput\u001b[39;49m, \u001b[39m*\u001b[39;49m\u001b[39m*\u001b[39;49mkwargs)\n\u001b[0;32m   1131\u001b[0m \u001b[39m# Do not call functions when jit is used\u001b[39;00m\n\u001b[0;32m   1132\u001b[0m full_backward_hooks, non_full_backward_hooks \u001b[39m=\u001b[39m [], []\n",
      "File \u001b[1;32md:\\DesktopEXE\\Anaconda\\envs\\torchgpu\\lib\\site-packages\\torch\\nn\\modules\\conv.py:457\u001b[0m, in \u001b[0;36mConv2d.forward\u001b[1;34m(self, input)\u001b[0m\n\u001b[0;32m    456\u001b[0m \u001b[39mdef\u001b[39;00m \u001b[39mforward\u001b[39m(\u001b[39mself\u001b[39m, \u001b[39minput\u001b[39m: Tensor) \u001b[39m-\u001b[39m\u001b[39m>\u001b[39m Tensor:\n\u001b[1;32m--> 457\u001b[0m     \u001b[39mreturn\u001b[39;00m \u001b[39mself\u001b[39;49m\u001b[39m.\u001b[39;49m_conv_forward(\u001b[39minput\u001b[39;49m, \u001b[39mself\u001b[39;49m\u001b[39m.\u001b[39;49mweight, \u001b[39mself\u001b[39;49m\u001b[39m.\u001b[39;49mbias)\n",
      "File \u001b[1;32md:\\DesktopEXE\\Anaconda\\envs\\torchgpu\\lib\\site-packages\\torch\\nn\\modules\\conv.py:453\u001b[0m, in \u001b[0;36mConv2d._conv_forward\u001b[1;34m(self, input, weight, bias)\u001b[0m\n\u001b[0;32m    449\u001b[0m \u001b[39mif\u001b[39;00m \u001b[39mself\u001b[39m\u001b[39m.\u001b[39mpadding_mode \u001b[39m!=\u001b[39m \u001b[39m'\u001b[39m\u001b[39mzeros\u001b[39m\u001b[39m'\u001b[39m:\n\u001b[0;32m    450\u001b[0m     \u001b[39mreturn\u001b[39;00m F\u001b[39m.\u001b[39mconv2d(F\u001b[39m.\u001b[39mpad(\u001b[39minput\u001b[39m, \u001b[39mself\u001b[39m\u001b[39m.\u001b[39m_reversed_padding_repeated_twice, mode\u001b[39m=\u001b[39m\u001b[39mself\u001b[39m\u001b[39m.\u001b[39mpadding_mode),\n\u001b[0;32m    451\u001b[0m                     weight, bias, \u001b[39mself\u001b[39m\u001b[39m.\u001b[39mstride,\n\u001b[0;32m    452\u001b[0m                     _pair(\u001b[39m0\u001b[39m), \u001b[39mself\u001b[39m\u001b[39m.\u001b[39mdilation, \u001b[39mself\u001b[39m\u001b[39m.\u001b[39mgroups)\n\u001b[1;32m--> 453\u001b[0m \u001b[39mreturn\u001b[39;00m F\u001b[39m.\u001b[39;49mconv2d(\u001b[39minput\u001b[39;49m, weight, bias, \u001b[39mself\u001b[39;49m\u001b[39m.\u001b[39;49mstride,\n\u001b[0;32m    454\u001b[0m                 \u001b[39mself\u001b[39;49m\u001b[39m.\u001b[39;49mpadding, \u001b[39mself\u001b[39;49m\u001b[39m.\u001b[39;49mdilation, \u001b[39mself\u001b[39;49m\u001b[39m.\u001b[39;49mgroups)\n",
      "\u001b[1;31mRuntimeError\u001b[0m: CUDA out of memory. Tried to allocate 50.00 MiB (GPU 0; 4.00 GiB total capacity; 3.35 GiB already allocated; 0 bytes free; 3.41 GiB reserved in total by PyTorch) If reserved memory is >> allocated memory try setting max_split_size_mb to avoid fragmentation.  See documentation for Memory Management and PYTORCH_CUDA_ALLOC_CONF"
     ]
    }
   ],
   "source": [
    "EPOCHS = 10\n",
    "# 存储训练过程\n",
    "history = {'Test Loss': [], 'Test Accuracy': []}\n",
    "for epoch in range(1, EPOCHS + 1):\n",
    "    # 添加一个进度条，增加可视化效果\n",
    "    processBar = tqdm(trainDataLoader, unit='step')\n",
    "    net.train(True)\n",
    "    \n",
    "    for step, (trainImgs, labels) in enumerate(processBar):\n",
    "        trainImgs = trainImgs.to(device)\n",
    "        labels = labels.to(device)\n",
    "\n",
    "        net.zero_grad()\n",
    "        outputs = net(trainImgs)\n",
    "        loss = lossF(outputs, labels)\n",
    "        predictions = torch.argmax(outputs, dim=1)\n",
    "        accuracy = torch.sum(predictions == labels)/labels.shape[0]\n",
    "        loss.backward()\n",
    "\n",
    "        optimizer.step()\n",
    "        processBar.set_description(\"[%d/%d] Loss: %.4f, Acc: %.4f\" %\n",
    "                                   (epoch, EPOCHS, loss.item(), accuracy.item()))\n",
    "\n",
    "        if step == len(processBar)-1:\n",
    "            correct, totalLoss = 0, 0\n",
    "            net.train(False)\n",
    "            for testImgs, labels in testDataLoader:\n",
    "                testImgs = testImgs.to(device)\n",
    "                labels = labels.to(device)\n",
    "                outputs = net(testImgs)\n",
    "                loss = lossF(outputs, labels)\n",
    "                predictions = torch.argmax(outputs, dim=1)\n",
    "\n",
    "                totalLoss += loss\n",
    "                correct += torch.sum(predictions == labels)\n",
    "            testAccuracy = correct/(BATCH_SIZE * len(testDataLoader))\n",
    "            testLoss = totalLoss/len(testDataLoader)\n",
    "            history['Test Loss'].append(testLoss.item())\n",
    "            history['Test Accuracy'].append(testAccuracy.item())\n",
    "            processBar.set_description(\"[%d/%d] Loss: %.4f, Acc: %.4f, Test Loss: %.4f, Test Acc: %.4f\" %\n",
    "                                       (epoch, EPOCHS, loss.item(), accuracy.item(), testLoss.item(), testAccuracy.item()))\n",
    "    processBar.close()"
   ]
  },
  {
   "cell_type": "markdown",
   "metadata": {},
   "source": [
    "## 测试模型"
   ]
  },
  {
   "cell_type": "code",
   "execution_count": 36,
   "metadata": {},
   "outputs": [
    {
     "name": "stdout",
     "output_type": "stream",
     "text": [
      "current batch testing result, loss:1.4828433990478516, prediction torch.Size([256]) \n",
      "current batch testing result, loss:1.4907573461532593, prediction torch.Size([256]) \n",
      "current batch testing result, loss:1.4928758144378662, prediction torch.Size([256]) \n",
      "current batch testing result, loss:1.4851353168487549, prediction torch.Size([256]) \n",
      "current batch testing result, loss:1.508770227432251, prediction torch.Size([256]) \n",
      "current batch testing result, loss:1.5025616884231567, prediction torch.Size([256]) \n",
      "current batch testing result, loss:1.4927406311035156, prediction torch.Size([256]) \n",
      "current batch testing result, loss:1.4946931600570679, prediction torch.Size([256]) \n",
      "current batch testing result, loss:1.5097918510437012, prediction torch.Size([256]) \n",
      "current batch testing result, loss:1.4901165962219238, prediction torch.Size([256]) \n",
      "current batch testing result, loss:1.4977720975875854, prediction torch.Size([256]) \n",
      "current batch testing result, loss:1.4999380111694336, prediction torch.Size([256]) \n",
      "current batch testing result, loss:1.4730302095413208, prediction torch.Size([256]) \n",
      "current batch testing result, loss:1.4912399053573608, prediction torch.Size([256]) \n",
      "current batch testing result, loss:1.490142583847046, prediction torch.Size([256]) \n",
      "current batch testing result, loss:1.4881473779678345, prediction torch.Size([256]) \n",
      "current batch testing result, loss:1.4931347370147705, prediction torch.Size([256]) \n",
      "current batch testing result, loss:1.4934723377227783, prediction torch.Size([256]) \n",
      "current batch testing result, loss:1.4970794916152954, prediction torch.Size([256]) \n",
      "current batch testing result, loss:1.4780465364456177, prediction torch.Size([256]) \n",
      "current batch testing result, loss:1.4726123809814453, prediction torch.Size([256]) \n",
      "current batch testing result, loss:1.4692198038101196, prediction torch.Size([256]) \n",
      "current batch testing result, loss:1.4908735752105713, prediction torch.Size([256]) \n",
      "current batch testing result, loss:1.500043511390686, prediction torch.Size([256]) \n",
      "current batch testing result, loss:1.4628583192825317, prediction torch.Size([256]) \n",
      "current batch testing result, loss:1.4985311031341553, prediction torch.Size([256]) \n",
      "current batch testing result, loss:1.4703364372253418, prediction torch.Size([256]) \n",
      "current batch testing result, loss:1.462302327156067, prediction torch.Size([256]) \n",
      "current batch testing result, loss:1.4677784442901611, prediction torch.Size([256]) \n",
      "current batch testing result, loss:1.4745841026306152, prediction torch.Size([256]) \n",
      "current batch testing result, loss:1.4675873517990112, prediction torch.Size([256]) \n",
      "current batch testing result, loss:1.4686946868896484, prediction torch.Size([256]) \n",
      "current batch testing result, loss:1.4765241146087646, prediction torch.Size([256]) \n",
      "current batch testing result, loss:1.4660381078720093, prediction torch.Size([256]) \n",
      "current batch testing result, loss:1.461440920829773, prediction torch.Size([256]) \n",
      "current batch testing result, loss:1.4757037162780762, prediction torch.Size([256]) \n",
      "current batch testing result, loss:1.4638055562973022, prediction torch.Size([256]) \n",
      "current batch testing result, loss:1.4818966388702393, prediction torch.Size([256]) \n",
      "current batch testing result, loss:1.5076415538787842, prediction torch.Size([256]) \n",
      "current batch testing result, loss:1.4611526727676392, prediction torch.Size([16]) \n",
      "average test accuracy:  0.9554687738418579\n",
      "total test loss:  1.4837977886199951\n"
     ]
    }
   ],
   "source": [
    "# 构造临时变量\n",
    "correct, totalLoss = 0, 0\n",
    "# 关闭模型的训练状态\n",
    "net.train(False)\n",
    "# 对测试集的DataLoader进行迭代\n",
    "for testImgs, labels in testDataLoader:\n",
    "    # print('测试数据集: ', testImgs.shape)\n",
    "    testImgs = testImgs.to(device)\n",
    "    labels = labels.to(device)\n",
    "    outputs = net(testImgs)\n",
    "    loss = lossF(outputs, labels)\n",
    "\n",
    "    # predictions: (256, )，刚好是当前批量每一个样本的预测结果\n",
    "    predictions = torch.argmax(outputs, dim=1)\n",
    "    print(\n",
    "        f'current batch testing result, loss:{loss}, prediction {predictions.shape} ')\n",
    "        \n",
    "    # 存储测试结果\n",
    "    totalLoss += loss\n",
    "    correct += torch.sum(predictions == labels)\n",
    "\n",
    "# 计算总测试的平均准确率\n",
    "testAccuracy = correct/(BATCH_SIZE * len(testDataLoader))\n",
    "print('average test accuracy: ', testAccuracy.item())\n",
    "# 计算总测试的平均Loss\n",
    "testLoss = totalLoss/len(testDataLoader)\n",
    "print('total test loss: ', testLoss.item())\n",
    "# 将本step结果进行可视化处理\n",
    "processBar.set_description(\"[%d/%d] Loss: %.4f, Acc: %.4f, Test Loss: %.4f, Test Acc: %.4f\" %\n",
    "                           (epoch, EPOCHS, loss.item(), accuracy.item(), testLoss.item(), testAccuracy.item()))\n"
   ]
  },
  {
   "cell_type": "markdown",
   "metadata": {},
   "source": [
    "## 训练结果、测试结果可视化"
   ]
  },
  {
   "cell_type": "code",
   "execution_count": 37,
   "metadata": {},
   "outputs": [
    {
     "data": {
      "image/png": "[encoded data removed]",
      "text/plain": [
       "<Figure size 640x480 with 1 Axes>"
      ]
     },
     "metadata": {},
     "output_type": "display_data"
    },
    {
     "data": {
      "image/png": "[encoded data removed]",
      "text/plain": [
       "<Figure size 640x480 with 1 Axes>"
      ]
     },
     "metadata": {},
     "output_type": "display_data"
    }
   ],
   "source": [
    "#对测试Loss进行可视化\n",
    "plt.plot(history['Test Loss'],label = 'Test Loss')\n",
    "plt.legend(loc='best')\n",
    "plt.grid(True)\n",
    "plt.xlabel('Epoch')\n",
    "plt.ylabel('Loss')\n",
    "plt.show()\n",
    "\n",
    "#对测试准确率进行可视化\n",
    "plt.plot(history['Test Accuracy'],color = 'red',label = 'Test Accuracy')\n",
    "plt.legend(loc='best')\n",
    "plt.grid(True)\n",
    "plt.xlabel('Epoch')\n",
    "plt.ylabel('Accuracy')\n",
    "plt.show()"
   ]
  },
  {
   "cell_type": "code",
   "execution_count": null,
   "metadata": {},
   "outputs": [],
   "source": []
  }
 ],
 "metadata": {
  "kernelspec": {
   "display_name": "Python 3.8.15 ('torchgpu')",
   "language": "python",
   "name": "python3"
  },
  "language_info": {
   "codemirror_mode": {
    "name": "ipython",
    "version": 3
   },
   "file_extension": ".py",
   "mimetype": "text/x-python",
   "name": "python",
   "nbconvert_exporter": "python",
   "pygments_lexer": "ipython3",
   "version": "3.8.15"
  },
  "orig_nbformat": 4,
  "vscode": {
   "interpreter": {
    "hash": "808ba20632a941d426494906f9e1a2bcb2af5a0b26e589ffbedba9846380e600"
   }
  }
 },
 "nbformat": 4,
 "nbformat_minor": 2
}
